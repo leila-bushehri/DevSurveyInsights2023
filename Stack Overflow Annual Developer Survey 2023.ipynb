{
 "cells": [
  {
   "cell_type": "markdown",
   "id": "90535d0c",
   "metadata": {},
   "source": [
    "Guiding questions: \n",
    "At what companies do developers get paid the most?\n",
    "How much does remote working matter to employees?\n",
    "How does coding experience affect the level of pay?\n",
    "What's the most popular method of learning to code?\n",
    "Are you more likely to get a job as a developer if you have a master's degree?"
   ]
  },
  {
   "cell_type": "markdown",
   "id": "74cbfc49",
   "metadata": {},
   "source": [
    "First we install all the libraries we will be needing in this project. "
   ]
  },
  {
   "cell_type": "code",
   "execution_count": 1,
   "id": "b703341f",
   "metadata": {},
   "outputs": [],
   "source": [
    "import pandas as pd\n",
    "import numpy as np\n",
    "import matplotlib.pyplot as plt\n",
    "import seaborn as sns"
   ]
  },
  {
   "cell_type": "code",
   "execution_count": 3,
   "id": "db897e0b",
   "metadata": {},
   "outputs": [],
   "source": [
    "df=pd.read_csv(\"survey_results_public.csv\")"
   ]
  },
  {
   "cell_type": "code",
   "execution_count": 5,
   "id": "f52c87c2",
   "metadata": {},
   "outputs": [
    {
     "name": "stdout",
     "output_type": "stream",
     "text": [
      "    ResponseId     Q120                      MainBranch              Age  \\\n",
      "0            1  I agree                   None of these  18-24 years old   \n",
      "1            2  I agree  I am a developer by profession  25-34 years old   \n",
      "2            3  I agree  I am a developer by profession  45-54 years old   \n",
      "3            4  I agree  I am a developer by profession  25-34 years old   \n",
      "4            5  I agree  I am a developer by profession  25-34 years old   \n",
      "..         ...      ...                             ...              ...   \n",
      "95          96  I agree  I am a developer by profession  18-24 years old   \n",
      "96          97  I agree  I am a developer by profession  25-34 years old   \n",
      "97          98  I agree  I am a developer by profession  25-34 years old   \n",
      "98          99  I agree  I am a developer by profession  35-44 years old   \n",
      "99         100  I agree  I am a developer by profession  25-34 years old   \n",
      "\n",
      "                                           Employment  \\\n",
      "0                                                 NaN   \n",
      "1                                 Employed, full-time   \n",
      "2                                 Employed, full-time   \n",
      "3                                 Employed, full-time   \n",
      "4   Employed, full-time;Independent contractor, fr...   \n",
      "..                                                ...   \n",
      "95                                Employed, full-time   \n",
      "96                                Employed, full-time   \n",
      "97                                Employed, full-time   \n",
      "98             Employed, part-time;Student, part-time   \n",
      "99  Employed, full-time;Independent contractor, fr...   \n",
      "\n",
      "                              RemoteWork  \\\n",
      "0                                    NaN   \n",
      "1                                 Remote   \n",
      "2   Hybrid (some remote, some in-person)   \n",
      "3   Hybrid (some remote, some in-person)   \n",
      "4                                 Remote   \n",
      "..                                   ...   \n",
      "95                             In-person   \n",
      "96  Hybrid (some remote, some in-person)   \n",
      "97                             In-person   \n",
      "98  Hybrid (some remote, some in-person)   \n",
      "99                             In-person   \n",
      "\n",
      "                                     CodingActivities  \\\n",
      "0                                                 NaN   \n",
      "1   Hobby;Contribute to open-source projects;Boots...   \n",
      "2   Hobby;Professional development or self-paced l...   \n",
      "3                                               Hobby   \n",
      "4   Hobby;Contribute to open-source projects;Profe...   \n",
      "..                                                ...   \n",
      "95  Hobby;Professional development or self-paced l...   \n",
      "96                                              Hobby   \n",
      "97                                              Hobby   \n",
      "98           Hobby;Contribute to open-source projects   \n",
      "99                      Hobby;Freelance/contract work   \n",
      "\n",
      "                                              EdLevel  \\\n",
      "0                                                 NaN   \n",
      "1        Bachelor’s degree (B.A., B.S., B.Eng., etc.)   \n",
      "2        Bachelor’s degree (B.A., B.S., B.Eng., etc.)   \n",
      "3        Bachelor’s degree (B.A., B.S., B.Eng., etc.)   \n",
      "4        Bachelor’s degree (B.A., B.S., B.Eng., etc.)   \n",
      "..                                                ...   \n",
      "95       Bachelor’s degree (B.A., B.S., B.Eng., etc.)   \n",
      "96       Bachelor’s degree (B.A., B.S., B.Eng., etc.)   \n",
      "97  Some college/university study without earning ...   \n",
      "98       Bachelor’s degree (B.A., B.S., B.Eng., etc.)   \n",
      "99    Master’s degree (M.A., M.S., M.Eng., MBA, etc.)   \n",
      "\n",
      "                                            LearnCode  \\\n",
      "0                                                 NaN   \n",
      "1   Books / Physical media;Colleague;Friend or fam...   \n",
      "2   Books / Physical media;Colleague;On the job tr...   \n",
      "3   Colleague;Friend or family member;Other online...   \n",
      "4   Books / Physical media;Online Courses or Certi...   \n",
      "..                                                ...   \n",
      "95  Books / Physical media;Hackathons (virtual or ...   \n",
      "96                                          Colleague   \n",
      "97  Colleague;Online Courses or Certification;On t...   \n",
      "98  Books / Physical media;Other online resources ...   \n",
      "99  Books / Physical media;Online Courses or Certi...   \n",
      "\n",
      "                                      LearnCodeOnline  ...        Frequency_1  \\\n",
      "0                                                 NaN  ...                NaN   \n",
      "1   Formal documentation provided by the owner of ...  ...   1-2 times a week   \n",
      "2   Formal documentation provided by the owner of ...  ...  6-10 times a week   \n",
      "3   Formal documentation provided by the owner of ...  ...   1-2 times a week   \n",
      "4   Formal documentation provided by the owner of ...  ...   1-2 times a week   \n",
      "..                                                ...  ...                ...   \n",
      "95  Formal documentation provided by the owner of ...  ...                NaN   \n",
      "96                                                NaN  ...   1-2 times a week   \n",
      "97                                                NaN  ...   1-2 times a week   \n",
      "98  Formal documentation provided by the owner of ...  ...                NaN   \n",
      "99  Formal documentation provided by the owner of ...  ...   1-2 times a week   \n",
      "\n",
      "          Frequency_2       Frequency_3               TimeSearching  \\\n",
      "0                 NaN               NaN                         NaN   \n",
      "1    10+ times a week             Never         15-30 minutes a day   \n",
      "2   6-10 times a week  3-5 times a week         30-60 minutes a day   \n",
      "3    10+ times a week  1-2 times a week         15-30 minutes a day   \n",
      "4    1-2 times a week  3-5 times a week        60-120 minutes a day   \n",
      "..                ...               ...                         ...   \n",
      "95                NaN               NaN                         NaN   \n",
      "96   3-5 times a week  1-2 times a week         30-60 minutes a day   \n",
      "97              Never             Never        60-120 minutes a day   \n",
      "98                NaN               NaN                         NaN   \n",
      "99   10+ times a week  10+ times a week  Less than 15 minutes a day   \n",
      "\n",
      "             TimeAnswering                                   ProfessionalTech  \\\n",
      "0                      NaN                                                NaN   \n",
      "1      15-30 minutes a day  DevOps function;Microservices;Automated testin...   \n",
      "2      30-60 minutes a day  DevOps function;Microservices;Automated testin...   \n",
      "3      30-60 minutes a day  Automated testing;Continuous integration (CI) ...   \n",
      "4      30-60 minutes a day  Microservices;Automated testing;Observability ...   \n",
      "..                     ...                                                ...   \n",
      "95                     NaN                                                NaN   \n",
      "96     15-30 minutes a day  DevOps function;Microservices;Automated testin...   \n",
      "97     30-60 minutes a day                                    DevOps function   \n",
      "98                     NaN                                                NaN   \n",
      "99  Over 120 minutes a day    Microservices;Observability tools;None of these   \n",
      "\n",
      "                                             Industry           SurveyLength  \\\n",
      "0                                                 NaN                    NaN   \n",
      "1   Information Services, IT, Software Development...  Appropriate in length   \n",
      "2   Information Services, IT, Software Development...  Appropriate in length   \n",
      "3                                                 NaN  Appropriate in length   \n",
      "4                                               Other  Appropriate in length   \n",
      "..                                                ...                    ...   \n",
      "95                                                NaN  Appropriate in length   \n",
      "96                       Retail and Consumer Services               Too long   \n",
      "97  Information Services, IT, Software Development...  Appropriate in length   \n",
      "98                                                NaN  Appropriate in length   \n",
      "99                       Retail and Consumer Services  Appropriate in length   \n",
      "\n",
      "                    SurveyEase ConvertedCompYearly  \n",
      "0                          NaN                 NaN  \n",
      "1                         Easy            285000.0  \n",
      "2                         Easy            250000.0  \n",
      "3                         Easy            156000.0  \n",
      "4   Neither easy nor difficult             23456.0  \n",
      "..                         ...                 ...  \n",
      "95  Neither easy nor difficult               371.0  \n",
      "96  Neither easy nor difficult             86528.0  \n",
      "97  Neither easy nor difficult                 NaN  \n",
      "98                        Easy                 NaN  \n",
      "99  Neither easy nor difficult             30842.0  \n",
      "\n",
      "[100 rows x 84 columns]\n"
     ]
    }
   ],
   "source": [
    "print(df.head(100))\n"
   ]
  },
  {
   "cell_type": "code",
   "execution_count": 6,
   "id": "2c9747db",
   "metadata": {},
   "outputs": [
    {
     "name": "stdout",
     "output_type": "stream",
     "text": [
      "<class 'pandas.core.frame.DataFrame'>\n",
      "RangeIndex: 89184 entries, 0 to 89183\n",
      "Data columns (total 84 columns):\n",
      " #   Column                               Non-Null Count  Dtype  \n",
      "---  ------                               --------------  -----  \n",
      " 0   ResponseId                           89184 non-null  int64  \n",
      " 1   Q120                                 89184 non-null  object \n",
      " 2   MainBranch                           89184 non-null  object \n",
      " 3   Age                                  89184 non-null  object \n",
      " 4   Employment                           87898 non-null  object \n",
      " 5   RemoteWork                           73810 non-null  object \n",
      " 6   CodingActivities                     73764 non-null  object \n",
      " 7   EdLevel                              87973 non-null  object \n",
      " 8   LearnCode                            87663 non-null  object \n",
      " 9   LearnCodeOnline                      70084 non-null  object \n",
      " 10  LearnCodeCoursesCert                 37076 non-null  object \n",
      " 11  YearsCode                            87435 non-null  object \n",
      " 12  YearsCodePro                         66136 non-null  object \n",
      " 13  DevType                              76872 non-null  object \n",
      " 14  OrgSize                              65043 non-null  object \n",
      " 15  PurchaseInfluence                    64964 non-null  object \n",
      " 16  TechList                             60851 non-null  object \n",
      " 17  BuyNewTool                           83009 non-null  object \n",
      " 18  Country                              87973 non-null  object \n",
      " 19  Currency                             65334 non-null  object \n",
      " 20  CompTotal                            48225 non-null  float64\n",
      " 21  LanguageHaveWorkedWith               87140 non-null  object \n",
      " 22  LanguageWantToWorkWith               80709 non-null  object \n",
      " 23  DatabaseHaveWorkedWith               73435 non-null  object \n",
      " 24  DatabaseWantToWorkWith               60911 non-null  object \n",
      " 25  PlatformHaveWorkedWith               63628 non-null  object \n",
      " 26  PlatformWantToWorkWith               51308 non-null  object \n",
      " 27  WebframeHaveWorkedWith               66938 non-null  object \n",
      " 28  WebframeWantToWorkWith               56741 non-null  object \n",
      " 29  MiscTechHaveWorkedWith               57019 non-null  object \n",
      " 30  MiscTechWantToWorkWith               46848 non-null  object \n",
      " 31  ToolsTechHaveWorkedWith              77884 non-null  object \n",
      " 32  ToolsTechWantToWorkWith              68315 non-null  object \n",
      " 33  NEWCollabToolsHaveWorkedWith         85864 non-null  object \n",
      " 34  NEWCollabToolsWantToWorkWith         76649 non-null  object \n",
      " 35  OpSysPersonal use                    86557 non-null  object \n",
      " 36  OpSysProfessional use                78587 non-null  object \n",
      " 37  OfficeStackAsyncHaveWorkedWith       69090 non-null  object \n",
      " 38  OfficeStackAsyncWantToWorkWith       53743 non-null  object \n",
      " 39  OfficeStackSyncHaveWorkedWith        83439 non-null  object \n",
      " 40  OfficeStackSyncWantToWorkWith        69776 non-null  object \n",
      " 41  AISearchHaveWorkedWith               56328 non-null  object \n",
      " 42  AISearchWantToWorkWith               46150 non-null  object \n",
      " 43  AIDevHaveWorkedWith                  25904 non-null  object \n",
      " 44  AIDevWantToWorkWith                  19587 non-null  object \n",
      " 45  NEWSOSites                           87973 non-null  object \n",
      " 46  SOVisitFreq                          87140 non-null  object \n",
      " 47  SOAccount                            87852 non-null  object \n",
      " 48  SOPartFreq                           66061 non-null  object \n",
      " 49  SOComm                               87692 non-null  object \n",
      " 50  SOAI                                 47912 non-null  object \n",
      " 51  AISelect                             87973 non-null  object \n",
      " 52  AISent                               61501 non-null  object \n",
      " 53  AIAcc                                38594 non-null  object \n",
      " 54  AIBen                                61396 non-null  object \n",
      " 55  AIToolInterested in Using            32783 non-null  object \n",
      " 56  AIToolCurrently Using                36137 non-null  object \n",
      " 57  AIToolNot interested in Using        21069 non-null  object \n",
      " 58  AINextVery different                 12661 non-null  object \n",
      " 59  AINextNeither different nor similar  6599 non-null   object \n",
      " 60  AINextSomewhat similar               6238 non-null   object \n",
      " 61  AINextVery similar                   2621 non-null   object \n",
      " 62  AINextSomewhat different             23303 non-null  object \n",
      " 63  TBranch                              65768 non-null  object \n",
      " 64  ICorPM                               43668 non-null  object \n",
      " 65  WorkExp                              43579 non-null  float64\n",
      " 66  Knowledge_1                          42535 non-null  object \n",
      " 67  Knowledge_2                          41670 non-null  object \n",
      " 68  Knowledge_3                          41798 non-null  object \n",
      " 69  Knowledge_4                          41684 non-null  object \n",
      " 70  Knowledge_5                          41527 non-null  object \n",
      " 71  Knowledge_6                          41520 non-null  object \n",
      " 72  Knowledge_7                          41467 non-null  object \n",
      " 73  Knowledge_8                          41404 non-null  object \n",
      " 74  Frequency_1                          41916 non-null  object \n",
      " 75  Frequency_2                          41925 non-null  object \n",
      " 76  Frequency_3                          41054 non-null  object \n",
      " 77  TimeSearching                        42778 non-null  object \n",
      " 78  TimeAnswering                        42629 non-null  object \n",
      " 79  ProfessionalTech                     41783 non-null  object \n",
      " 80  Industry                             36774 non-null  object \n",
      " 81  SurveyLength                         86485 non-null  object \n",
      " 82  SurveyEase                           86554 non-null  object \n",
      " 83  ConvertedCompYearly                  48019 non-null  float64\n",
      "dtypes: float64(3), int64(1), object(80)\n",
      "memory usage: 57.2+ MB\n",
      "None\n"
     ]
    }
   ],
   "source": [
    "print(df.info())"
   ]
  },
  {
   "cell_type": "code",
   "execution_count": 7,
   "id": "e6e1902a",
   "metadata": {},
   "outputs": [],
   "source": [
    "#to see what our missing values are!\n",
    "missing_values= df.isnull().sum()\n",
    "data_types=df.dtypes"
   ]
  },
  {
   "cell_type": "code",
   "execution_count": 8,
   "id": "7034217d",
   "metadata": {
    "scrolled": true
   },
   "outputs": [
    {
     "data": {
      "text/plain": [
       "ResponseId                 0\n",
       "Q120                       0\n",
       "MainBranch                 0\n",
       "Age                        0\n",
       "Employment              1286\n",
       "                       ...  \n",
       "ProfessionalTech       47401\n",
       "Industry               52410\n",
       "SurveyLength            2699\n",
       "SurveyEase              2630\n",
       "ConvertedCompYearly    41165\n",
       "Length: 84, dtype: int64"
      ]
     },
     "execution_count": 8,
     "metadata": {},
     "output_type": "execute_result"
    }
   ],
   "source": [
    "missing_values"
   ]
  },
  {
   "cell_type": "markdown",
   "id": "eb07ee1f",
   "metadata": {},
   "source": []
  },
  {
   "cell_type": "markdown",
   "id": "90f16bdd",
   "metadata": {},
   "source": [
    "1-At what companies do developers get paid the most?\n",
    "for this we need to clean the industry column and remove all the rows where information is missing."
   ]
  },
  {
   "cell_type": "code",
   "execution_count": 12,
   "id": "05d0bb0f",
   "metadata": {},
   "outputs": [
    {
     "name": "stderr",
     "output_type": "stream",
     "text": [
      "C:\\Users\\L\\AppData\\Local\\Temp\\ipykernel_5552\\2363392958.py:5: SettingWithCopyWarning: \n",
      "A value is trying to be set on a copy of a slice from a DataFrame.\n",
      "Try using .loc[row_indexer,col_indexer] = value instead\n",
      "\n",
      "See the caveats in the documentation: https://pandas.pydata.org/pandas-docs/stable/user_guide/indexing.html#returning-a-view-versus-a-copy\n",
      "  df_cleaned['Industry'] = df_cleaned['Industry'].str.strip()\n"
     ]
    },
    {
     "data": {
      "text/plain": [
       "Industry\n",
       "Other                                                                  124288.992366\n",
       "Financial Services                                                     123977.345539\n",
       "Advertising Services                                                   112730.652033\n",
       "Healthcare                                                             103571.103408\n",
       "Insurance                                                              100366.450435\n",
       "Retail and Consumer Services                                            98211.981959\n",
       "Information Services, IT, Software Development, or other Technology     94924.338332\n",
       "Manufacturing, Transportation, or Supply Chain                          89943.515242\n",
       "Oil & Gas                                                               88982.888889\n",
       "Legal Services                                                          88300.562130\n",
       "Name: ConvertedCompYearly, dtype: float64"
      ]
     },
     "execution_count": 12,
     "metadata": {},
     "output_type": "execute_result"
    }
   ],
   "source": [
    "# Remove rows with missing 'ConvertedCompYearly' or 'Industry' data \n",
    "df_cleaned = df.dropna(subset=['ConvertedCompYearly', 'Industry'])\n",
    "\n",
    "# Clean the 'Industry' column for consistency removing the spaces at the beginning and end basically \n",
    "df_cleaned['Industry'] = df_cleaned['Industry'].str.strip()\n",
    "\n",
    "#calculating the avg compensation by industry we want it grouped by the industry but the avg of ConvertedCompYearly \n",
    "average_comp_by_industry_cleaned = df_cleaned.groupby('Industry')['ConvertedCompYearly'].mean().sort_values(ascending=False)\n",
    "\n",
    "top_10_industries_cleaned = average_comp_by_industry_cleaned.head(10)\n",
    "\n",
    "top_10_industries_cleaned\n"
   ]
  },
  {
   "cell_type": "markdown",
   "id": "01b341ce",
   "metadata": {},
   "source": [
    "How much does remote working matter to employees?\n"
   ]
  },
  {
   "cell_type": "code",
   "execution_count": 13,
   "id": "f1fc0eb4",
   "metadata": {},
   "outputs": [
    {
     "name": "stderr",
     "output_type": "stream",
     "text": [
      "C:\\Users\\L\\AppData\\Local\\Temp\\ipykernel_5552\\1371659233.py:3: SettingWithCopyWarning: \n",
      "A value is trying to be set on a copy of a slice from a DataFrame.\n",
      "Try using .loc[row_indexer,col_indexer] = value instead\n",
      "\n",
      "See the caveats in the documentation: https://pandas.pydata.org/pandas-docs/stable/user_guide/indexing.html#returning-a-view-versus-a-copy\n",
      "  df_cleaned['RemoteWork'] = df_cleaned['RemoteWork'].str.strip()\n"
     ]
    },
    {
     "data": {
      "text/plain": [
       "(Remote                                  44.092616\n",
       " Hybrid (some remote, some in-person)    42.294535\n",
       " In-person                               13.612849\n",
       " Name: RemoteWork, dtype: float64,\n",
       " RemoteWork\n",
       " Remote                                  112141.268001\n",
       " Hybrid (some remote, some in-person)    100216.214934\n",
       " In-person                                70646.002145\n",
       " Name: ConvertedCompYearly, dtype: float64)"
      ]
     },
     "execution_count": 13,
     "metadata": {},
     "output_type": "execute_result"
    }
   ],
   "source": [
    "df_cleaned = df.dropna(subset=['ConvertedCompYearly','RemoteWork'])\n",
    "\n",
    "df_cleaned['RemoteWork'] = df_cleaned['RemoteWork'].str.strip()\n",
    "\n",
    "#Return a Series containing counts of unique values. and if normalize=True If True then the object returned will contain the relative frequencies of the unique values\n",
    "remote_work_distribution = df_cleaned['RemoteWork'].value_counts(normalize=True) * 100\n",
    "\n",
    "average_comp_by_remote_work= df_cleaned.groupby('RemoteWork')['ConvertedCompYearly'].mean().sort_values(ascending=False)\n",
    "\n",
    "remote_work_distribution,average_comp_by_remote_work\n"
   ]
  },
  {
   "cell_type": "markdown",
   "id": "1f0102d3",
   "metadata": {},
   "source": [
    "What's the most popular method of learning to code?"
   ]
  },
  {
   "cell_type": "code",
   "execution_count": 17,
   "id": "224883bd",
   "metadata": {},
   "outputs": [
    {
     "data": {
      "text/html": [
       "<div>\n",
       "<style scoped>\n",
       "    .dataframe tbody tr th:only-of-type {\n",
       "        vertical-align: middle;\n",
       "    }\n",
       "\n",
       "    .dataframe tbody tr th {\n",
       "        vertical-align: top;\n",
       "    }\n",
       "\n",
       "    .dataframe thead th {\n",
       "        text-align: right;\n",
       "    }\n",
       "</style>\n",
       "<table border=\"1\" class=\"dataframe\">\n",
       "  <thead>\n",
       "    <tr style=\"text-align: right;\">\n",
       "      <th></th>\n",
       "      <th>Method</th>\n",
       "      <th>Count</th>\n",
       "    </tr>\n",
       "  </thead>\n",
       "  <tbody>\n",
       "    <tr>\n",
       "      <th>6</th>\n",
       "      <td>Other online resources (e.g., videos, blogs, f...</td>\n",
       "      <td>70244</td>\n",
       "    </tr>\n",
       "    <tr>\n",
       "      <th>0</th>\n",
       "      <td>Books / Physical media</td>\n",
       "      <td>45406</td>\n",
       "    </tr>\n",
       "    <tr>\n",
       "      <th>7</th>\n",
       "      <td>School (i.e., University, College, etc)</td>\n",
       "      <td>43957</td>\n",
       "    </tr>\n",
       "    <tr>\n",
       "      <th>4</th>\n",
       "      <td>Online Courses or Certification</td>\n",
       "      <td>43201</td>\n",
       "    </tr>\n",
       "    <tr>\n",
       "      <th>5</th>\n",
       "      <td>On the job training</td>\n",
       "      <td>40380</td>\n",
       "    </tr>\n",
       "    <tr>\n",
       "      <th>1</th>\n",
       "      <td>Colleague</td>\n",
       "      <td>20523</td>\n",
       "    </tr>\n",
       "    <tr>\n",
       "      <th>2</th>\n",
       "      <td>Friend or family member</td>\n",
       "      <td>9936</td>\n",
       "    </tr>\n",
       "    <tr>\n",
       "      <th>8</th>\n",
       "      <td>Coding Bootcamp</td>\n",
       "      <td>8602</td>\n",
       "    </tr>\n",
       "    <tr>\n",
       "      <th>3</th>\n",
       "      <td>Hackathons (virtual or in-person)</td>\n",
       "      <td>7033</td>\n",
       "    </tr>\n",
       "    <tr>\n",
       "      <th>9</th>\n",
       "      <td>Other (please specify):</td>\n",
       "      <td>5451</td>\n",
       "    </tr>\n",
       "  </tbody>\n",
       "</table>\n",
       "</div>"
      ],
      "text/plain": [
       "                                              Method  Count\n",
       "6  Other online resources (e.g., videos, blogs, f...  70244\n",
       "0                             Books / Physical media  45406\n",
       "7            School (i.e., University, College, etc)  43957\n",
       "4                    Online Courses or Certification  43201\n",
       "5                                On the job training  40380\n",
       "1                                          Colleague  20523\n",
       "2                            Friend or family member   9936\n",
       "8                                    Coding Bootcamp   8602\n",
       "3                  Hackathons (virtual or in-person)   7033\n",
       "9                            Other (please specify):   5451"
      ]
     },
     "execution_count": 17,
     "metadata": {},
     "output_type": "execute_result"
    }
   ],
   "source": [
    "learning_methods_column=\"LearnCode\"\n",
    "\n",
    "if learning_methods_column in df.columns:\n",
    "    #seperate the multiple learning methods by semicolons and creates a list of methods for each respondent \n",
    "    all_methods= df[learning_methods_column].dropna().str.split(';')\n",
    "    #all methods is a list of lists basically and we use strip() ti remove any leading or trailing spaces from each method\n",
    "    flat_list= [item.strip() for sublist in all_methods for item in sublist]\n",
    "    \n",
    "    #counting each method frequency counter class is used to count the frequency \n",
    "    from collections import Counter\n",
    "    method_counts= Counter(flat_list)\n",
    "    \n",
    "    #convert to a dataframe and sort it \n",
    "    method_counts_df = pd.DataFrame(method_counts.items(), columns=['Method', 'Count']).sort_values(by='Count', ascending=False)\n",
    "    \n",
    "    # Visualization of the top methods\n",
    "    top_methods = method_counts_df.head(10)\n",
    "else:\n",
    "    top_methods = \"Learning methods column does not exist in the dataset.\"\n",
    "\n",
    "top_methods"
   ]
  },
  {
   "cell_type": "markdown",
   "id": "bfc3d992",
   "metadata": {},
   "source": [
    "How does coding experience affect the level of pay?"
   ]
  },
  {
   "cell_type": "code",
   "execution_count": 18,
   "id": "7169f5a9",
   "metadata": {},
   "outputs": [
    {
     "name": "stderr",
     "output_type": "stream",
     "text": [
      "C:\\Users\\L\\AppData\\Local\\Temp\\ipykernel_5552\\3485771407.py:8: SettingWithCopyWarning: \n",
      "A value is trying to be set on a copy of a slice from a DataFrame.\n",
      "Try using .loc[row_indexer,col_indexer] = value instead\n",
      "\n",
      "See the caveats in the documentation: https://pandas.pydata.org/pandas-docs/stable/user_guide/indexing.html#returning-a-view-versus-a-copy\n",
      "  df_cleaned[experience_column_name] = df_cleaned[experience_column_name].astype(str).str.extract('(\\d+)').astype(float)\n"
     ]
    }
   ],
   "source": [
    "#checking if we have the columns in our dataframe that we need\n",
    "experience_columns = [col for col in df.columns if 'year' in col.lower() or 'experience' in col.lower()]\n",
    "\n",
    "#we want to directly use YearsCoding if it exists if not we will go back to our first step \n",
    "experience_column_name = 'YearsCoding' if 'YearsCoding' in experience_columns else experience_columns[0] if experience_columns else None\n",
    "\n",
    "#This line is a general approach to cleaning the experience data. It attempts to extract numerical values from the experience column, converting it to float for numerical analysis. \n",
    "df_cleaned[experience_column_name] = df_cleaned[experience_column_name].astype(str).str.extract('(\\d+)').astype(float)\n",
    "\n",
    "#dropping missing values \n",
    "df_experience_cleaned = df_cleaned.dropna(subset=[experience_column_name, 'ConvertedCompYearly'])\n",
    "\n",
    "#getting the avg and sorting the value \n",
    "average_comp_by_experience = df_experience_cleaned.groupby(experience_column_name)['ConvertedCompYearly'].mean().sort_values()\n"
   ]
  },
  {
   "cell_type": "code",
   "execution_count": 21,
   "id": "fa00aa82",
   "metadata": {},
   "outputs": [
    {
     "data": {
      "text/plain": [
       "<AxesSubplot:title={'center':'Average Compensation by Coding Experience'}, xlabel='YearsCode'>"
      ]
     },
     "execution_count": 21,
     "metadata": {},
     "output_type": "execute_result"
    },
    {
     "data": {
      "image/png": "[encoded data removed]",
      "text/plain": [
       "<Figure size 720x432 with 1 Axes>"
      ]
     },
     "metadata": {
      "needs_background": "light"
     },
     "output_type": "display_data"
    }
   ],
   "source": [
    "average_comp_by_experience.plot(kind='bar', figsize=(10, 6), title=\"Average Compensation by Coding Experience\")"
   ]
  },
  {
   "cell_type": "markdown",
   "id": "0da30eb5",
   "metadata": {},
   "source": [
    "Are you more likely to get a job as a developer if you have a master's degree?"
   ]
  },
  {
   "cell_type": "code",
   "execution_count": 27,
   "id": "54142a58",
   "metadata": {},
   "outputs": [
    {
     "data": {
      "text/plain": [
       "{\"With Master's Degree\": nan, \"Without Master's Degree\": 0.7335172228202368}"
      ]
     },
     "execution_count": 27,
     "metadata": {},
     "output_type": "execute_result"
    }
   ],
   "source": [
    "education_column = 'EdLevel'\n",
    "employment_column = 'Employment'\n",
    "\n",
    "# Clean and standardize the education level data\n",
    "df[education_column] = df[education_column].str.strip().str.lower()\n",
    "\n",
    "#rows with masters degree\n",
    "masters_degree = df[df[education_column].str.contains(\"master's\", na=False)]\n",
    "\n",
    "no_masters_degree = df[~df[education_column].str.contains(\"master's|doctorate\", na=False)]\n",
    "\n",
    "\n",
    "#avg of employment with and without a masters degree\n",
    "employed_masters= masters_degree[employment_column].str.contains('Employed', na=False).mean()\n",
    "employed_no_masters = no_masters_degree[employment_column].str.contains('Employed', na=False).mean()\n",
    "\n",
    "results = {\n",
    "    \"With Master's Degree\": employed_masters,\n",
    "    \"Without Master's Degree\": employed_no_masters\n",
    "}\n",
    "\n",
    "results"
   ]
  }
 ],
 "metadata": {
  "kernelspec": {
   "display_name": "Python 3 (ipykernel)",
   "language": "python",
   "name": "python3"
  },
  "language_info": {
   "codemirror_mode": {
    "name": "ipython",
    "version": 3
   },
   "file_extension": ".py",
   "mimetype": "text/x-python",
   "name": "python",
   "nbconvert_exporter": "python",
   "pygments_lexer": "ipython3",
   "version": "3.9.12"
  }
 },
 "nbformat": 4,
 "nbformat_minor": 5
}
